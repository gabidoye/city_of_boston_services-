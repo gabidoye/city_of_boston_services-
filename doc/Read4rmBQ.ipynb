{
 "cells": [
  {
   "cell_type": "code",
   "execution_count": 1,
   "id": "cf25dfac",
   "metadata": {},
   "outputs": [],
   "source": [
    "from __future__ import absolute_import\n",
    "import json\n",
    "import pprint\n",
    "import subprocess\n",
    "import pyspark\n",
    "from pyspark.sql import SparkSession"
   ]
  },
  {
   "cell_type": "code",
   "execution_count": 3,
   "id": "cf8a4da5",
   "metadata": {},
   "outputs": [],
   "source": [
    "spark = SparkSession.builder \\\n",
    "        .master(\"local\") \\\n",
    "        .appName(\"311 Service Request\") \\\n",
    "        .getOrCreate()\n",
    "\n",
    "spark.sparkContext.setLogLevel(\"ERROR\")"
   ]
  },
  {
   "cell_type": "code",
   "execution_count": 5,
   "id": "d336a7f8",
   "metadata": {},
   "outputs": [
    {
     "name": "stdout",
     "output_type": "stream",
     "text": [
      "StructType(List(StructField(case_enquiry_id,StringType,true),StructField(open_dt,StringType,true),StructField(target_dt,TimestampType,true),StructField(closed_dt,TimestampType,true),StructField(ontime,StringType,true),StructField(case_status,StringType,true),StructField(closure_reason,StringType,true),StructField(case_title,StringType,true),StructField(subject,StringType,true),StructField(reason,StringType,true),StructField(type,StringType,true),StructField(queue,StringType,true),StructField(department,StringType,true),StructField(location,StringType,true),StructField(fire_district,StringType,true),StructField(neighborhood,StringType,true),StructField(source,StringType,true)))\n"
     ]
    }
   ],
   "source": [
    "df = spark.read.format('bigquery') \\\n",
    "    .option('project','dataengineering-bizzy') \\\n",
    "    .option('table','boston_service_request.boston_311_raw') \\\n",
    "    .load()\n",
    "\n",
    "print(df.schema)\n",
    "\n",
    "#df.show()\n",
    "#dataengineering-bizzy.taxi_rides_ny.external_table"
   ]
  },
  {
   "cell_type": "code",
   "execution_count": null,
   "id": "fae58bcc",
   "metadata": {},
   "outputs": [],
   "source": []
  }
 ],
 "metadata": {
  "kernelspec": {
   "display_name": "Python 3 (ipykernel)",
   "language": "python",
   "name": "python3"
  },
  "language_info": {
   "codemirror_mode": {
    "name": "ipython",
    "version": 3
   },
   "file_extension": ".py",
   "mimetype": "text/x-python",
   "name": "python",
   "nbconvert_exporter": "python",
   "pygments_lexer": "ipython3",
   "version": "3.9.7"
  }
 },
 "nbformat": 4,
 "nbformat_minor": 5
}
